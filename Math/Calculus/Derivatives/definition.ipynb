{
 "cells": [
  {
   "cell_type": "markdown",
   "id": "d550c436",
   "metadata": {},
   "source": [
    "<p style=\"text-align: center; font-weight: bold;\">Определение производной:</p>\n",
    "\n",
    "```math\n",
    "f'(x0) = \\lim_{{\\Delta x \\to \\infty}} \\frac{f(x0 + \\Delta x) - f(x0)}{{\\Delta x}}\n",
    "```\n"
   ]
  }
 ],
 "metadata": {
  "language_info": {
   "name": "python"
  }
 },
 "nbformat": 4,
 "nbformat_minor": 5
}
