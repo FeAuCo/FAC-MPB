{
 "cells": [
  {
   "cell_type": "markdown",
   "id": "63f88a38",
   "metadata": {},
   "source": [
    "<p style=\"text-align: center; font-weight: bold;\">Таблица производных:</p>\n",
    "\n",
    "\\begin{array}{l}\n",
    "c' = 0 \\\\[6pt]\n",
    "\\begin{cases}\n",
    "(\\ln x)' = \\frac{1}{x}  \\\\\n",
    "x > 0\n",
    "\\end{cases}\n",
    "\\\\[6pt]\n",
    "(a^x)' = a^x \\cdot \\ln a \\\\[6pt]\n",
    "(e^x)' = e^x \\\\[6pt]\n",
    "(\\sin x)' = \\cos x \\\\[6pt]\n",
    "(\\cos x)' = -\\sin x \\\\[6pt]\n",
    "(\\tan x)' = \\frac{1}{\\cos^2 x} \\\\[6pt]\n",
    "(\\cot x)' = -\\frac{1}{\\sin^2 x} \\\\[6pt]\n",
    "(\\arcsin x)' = \\frac{1}{\\sqrt{1 - x^2}} \\\\[6pt]\n",
    "(\\arccos x)' = -\\frac{1}{\\sqrt{1 - x^2}} \\\\[6pt]\n",
    "(\\arctan x)' = \\frac{1}{1 + x^2} \\\\[6pt]\n",
    "(\\text{arccot} x)' = -\\frac{1}{1 + x^2} \\\\[6pt]\n",
    "\\end{array}"
   ]
  }
 ],
 "metadata": {
  "language_info": {
   "name": "python"
  }
 },
 "nbformat": 4,
 "nbformat_minor": 5
}
