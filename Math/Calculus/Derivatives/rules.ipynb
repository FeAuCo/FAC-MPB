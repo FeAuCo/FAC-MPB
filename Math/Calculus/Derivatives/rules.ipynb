{
 "cells": [
  {
   "cell_type": "markdown",
   "id": "46c6abf8",
   "metadata": {},
   "source": [
    "<p style=\"text-align: center; font-weight: bold;\">Правила вычисления производной:</p>\n",
    "\n",
    "<p style=\"text-align: center;\">2. С константой:</p>\n",
    "\n",
    "$$\n",
    "(C \\cdot f(x))' = C \\cdot f'(x)\n",
    "$$\n",
    "\n",
    "<p style=\"text-align: center;\">2. Суммы:</p>\n",
    "\n",
    "$$\n",
    "(u(x) \\pm v(x))' = u'(x) \\pm v'(x)\n",
    "$$\n",
    "\n",
    "<p style=\"text-align: center;\">3. Произведения:</p>\n",
    "\n",
    "$$\n",
    "(u(x) \\cdot v(x))' = u'(x) \\cdot v(x) + u(x) \\cdot v'(x)\n",
    "$$\n",
    "\n",
    "<p style=\"text-align: center;\">4. Сложной функции:</p>\n",
    "\n",
    "$$\n",
    "(u(v(x)))' = v'(x) \\cdot u'(v(x))\n",
    "$$\n",
    "\n",
    "<p style=\"text-align: center;\">или</p>\n",
    "\n",
    "$$\n",
    "При \\ f(x) =  (u(v_1(x), v_2(x), \\cdots , v_n(x))) \\\\[5pt]\n",
    "\\frac{df}{dx} = \\sum_{i=1}^{n}{\\frac{\\partial f}{\\partial v_i} \\cdot \\frac{dv_i}{dx}} \n",
    "$$"
   ]
  }
 ],
 "metadata": {
  "language_info": {
   "name": "python"
  }
 },
 "nbformat": 4,
 "nbformat_minor": 5
}
