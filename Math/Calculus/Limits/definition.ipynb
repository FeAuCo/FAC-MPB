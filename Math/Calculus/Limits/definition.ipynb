{
 "cells": [
  {
   "cell_type": "markdown",
   "id": "6d208451",
   "metadata": {},
   "source": [
    "<p style=\"text-align: center; font-weight: bold;\">Определение предела по Коши:</p>\n",
    "\n",
    "$$\n",
    "\\lim_{x \\to a}{f(x)} = L \\ если \\ \\forall \\epsilon > 0 \\ \\exists \\delta > 0 \\ такая \\ что \\ 0 < |x - a| < \\delta \\Rightarrow |f(x) - L| < \\epsilon\n",
    "$$"
   ]
  }
 ],
 "metadata": {
  "language_info": {
   "name": "python"
  }
 },
 "nbformat": 4,
 "nbformat_minor": 5
}
