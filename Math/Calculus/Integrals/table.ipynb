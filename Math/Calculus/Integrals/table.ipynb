{
 "cells": [
  {
   "cell_type": "markdown",
   "id": "617b7279",
   "metadata": {},
   "source": [
    "<p style=\"text-align: center; font-weight: bold;\">Таблица интегралов:</p>\n",
    "\n",
    "$$\n",
    "\\begin{array}{l}\n",
    "\\begin{cases}\n",
    "\\int{x^n ~dx} = \\frac{x^n + 1}{n + 1} + C \\\\\n",
    "n \\neq -1\n",
    "\\end{cases}\n",
    "\\\\[15pt]\n",
    "\\int{\\frac{1}{x} ~dx} = \\ln |x| + C\n",
    "\\\\[6pt]\n",
    "\\int{a^x ~dx} = \\frac{a^x}{\\ln a} + C\n",
    "\\\\[6pt]\n",
    "\\int{e^x ~dx} = e^x + C\n",
    "\\\\[6pt]\n",
    "\\int{\\cos x ~dx} = \\sin x + C\n",
    "\\\\[6pt]\n",
    "\\int{\\sin x ~dx} = -\\cos x + C\n",
    "\\\\[6pt]\n",
    "\\int{\\cos x ~dx} = \\sin x + C\n",
    "\\\\[6pt]\n",
    "\\int{\\frac{1}{\\cos^2 x} ~dx} = \\tan x + C\n",
    "\\\\[6pt]\n",
    "\\int{\\frac{1}{\\sin^2 x} ~dx} = -\\cot x + C\n",
    "\\\\[6pt]\n",
    "\\begin{cases}\n",
    "\\int{\\frac{1}{\\sqrt{a^2 - x^2}} ~dx} = \\arcsin \\frac{x}{a} + C1 = -\\arccos \\frac{x}{a} + C2 \\\\\n",
    "a > 0\n",
    "\\end{cases}\n",
    "\\\\[15pt]\n",
    "\\begin{cases}\n",
    "\\int{\\frac{1}{\\sqrt{x^2 + a^2}} ~dx} = \\frac{1}{a} \\cdot \\arctan \\frac{x}{a} + C1 = -\\frac{1}{a} \\cdot \\text{arccot} \\frac{x}{a} + C2 \\\\\n",
    "a \\neq 0\n",
    "\\end{cases}\n",
    "\\\\[15pt]\n",
    "\\begin{cases}\n",
    "\\int{\\frac{1}{x^2 - a^2} ~dx} = \\frac{1}{2a} \\cdot \\ln |\\frac{x - a}{x + a}| + C \\\\\n",
    "a \\neq 0\n",
    "\\end{cases}\n",
    "\\\\[15pt]\n",
    "\\int{\\frac{1}{\\sqrt{x^2 \\pm a^2}} ~dx} = \\ln |x + \\sqrt{x^2 \\pm a^2}| + C\n",
    "\\end{array}\n",
    "$$"
   ]
  }
 ],
 "metadata": {
  "language_info": {
   "name": "python"
  }
 },
 "nbformat": 4,
 "nbformat_minor": 5
}
