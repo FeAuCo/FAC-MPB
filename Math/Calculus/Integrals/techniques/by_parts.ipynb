{
 "cells": [
  {
   "cell_type": "markdown",
   "id": "836608f4",
   "metadata": {},
   "source": [
    "<p style=\"text-align: center; font-weight: bold;\">Интегрирование по частям:</p>\n",
    "\n",
    "$$ \n",
    "\\int{udv} = uv - \\int{vdu}\n",
    "$$"
   ]
  }
 ],
 "metadata": {
  "language_info": {
   "name": "python"
  }
 },
 "nbformat": 4,
 "nbformat_minor": 5
}
