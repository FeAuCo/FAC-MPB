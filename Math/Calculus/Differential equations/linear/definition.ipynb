{
 "cells": [
  {
   "cell_type": "markdown",
   "id": "0b5ed085",
   "metadata": {},
   "source": [
    "<p style=\"text-align: center; font-weight: bold;\">Определение линейных дифференциальных уравнений первого порядка:</p>\n",
    "\n",
    "**Линейным дифференциальным уравнением первого порядка** называют уравнение вида:\n",
    "\\begin{equation}\n",
    "y' + a(x)y = b(x) \\tag{1}\n",
    "\\end{equation}"
   ]
  }
 ],
 "metadata": {
  "language_info": {
   "name": "python"
  }
 },
 "nbformat": 4,
 "nbformat_minor": 5
}
